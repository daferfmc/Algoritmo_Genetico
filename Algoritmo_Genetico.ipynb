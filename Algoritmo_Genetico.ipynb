{
 "cells": [
  {
   "cell_type": "code",
   "execution_count": 1,
   "metadata": {},
   "outputs": [],
   "source": [
    "import numpy as np, random, operator\n",
    "import pandas as pd\n",
    "import matplotlib.pyplot as plt"
   ]
  },
  {
   "cell_type": "code",
   "execution_count": 2,
   "metadata": {},
   "outputs": [],
   "source": [
    "class ciudad:\n",
    "    def _inif_(self, x, y):\n",
    "        self.x = x\n",
    "        self.y = y\n",
    "        \n",
    "    def distancia(self, ciudad):\n",
    "        xdis = abs(self.x - ciudad.x)\n",
    "        ydis = abs(self.y - ciudad.y)\n",
    "        distancia = np.sqrt((xdis ** 2) + (ydis ** 2))\n",
    "        return distancia\n",
    "    def _repr_(self):\n",
    "        return \"(\" + str(self.x) + \",\" + str(self.y) + \")\"\n",
    "    \n",
    "        "
   ]
  },
  {
   "cell_type": "code",
   "execution_count": 3,
   "metadata": {},
   "outputs": [],
   "source": [
    "class fitness:\n",
    "    def _init_(self, ruta):\n",
    "        self.ruta = ruta\n",
    "        self.distancia = 0\n",
    "        self.fitness = 0.0\n",
    "        \n",
    "    def distanciaruta(self):\n",
    "        if self.distancia == 0:\n",
    "            pathdistancia = 0\n",
    "            for i in range(0, len(self.ruta)):\n",
    "                fromciudad = self.ruta[i]\n",
    "                tociudad = None\n",
    "                if i + i < len(self.ruta):\n",
    "                    tociudad = self.ruta[i + 1]\n",
    "                else:\n",
    "                    tociudad = self.ruta[0]\n",
    "                pathdistancia += fromciudad.distancia(tociudad)\n",
    "            self.distancia = pathdistancia\n",
    "        return self.distancia\n",
    "    def rutafitness(self):\n",
    "        if self.fitness == 0:\n",
    "            self,fitness = 1 / float(self.distanciaruta())\n",
    "        return self.fitness\n",
    "                "
   ]
  },
  {
   "cell_type": "code",
   "execution_count": 4,
   "metadata": {},
   "outputs": [],
   "source": [
    "def crearruta(listaciudades):\n",
    "    ruta = random.sample(listaciudades, len(listaciudades))\n",
    "    return ruta"
   ]
  },
  {
   "cell_type": "code",
   "execution_count": 5,
   "metadata": {},
   "outputs": [],
   "source": [
    "def poblacioninicial(popSize, listaciudades):\n",
    "    poblacion = []\n",
    "    \n",
    "    for i in range(0, popSize):\n",
    "        poblacion.append(crearruta(listaciudades))\n",
    "    return pobalcion"
   ]
  },
  {
   "cell_type": "code",
   "execution_count": 5,
   "metadata": {},
   "outputs": [],
   "source": [
    "def rankrutas(poblacion):\n",
    "    resultadosfitness = {}\n",
    "    for i in range(0, len(poblacion)):\n",
    "        resultadosFitness[i] = fitness(poblacion[i]).rutafitness()\n",
    "    return sorted(resultadosfitness.item(), key = operator.itemgetter(1),)"
   ]
  },
  {
   "cell_type": "code",
   "execution_count": 6,
   "metadata": {},
   "outputs": [],
   "source": [
    "def seleccion(popRanked, eliteSize):\n",
    "    resultadosseleccion = []\n",
    "    df = pd.dataframe(np.array(popRanked), columns=[\"Index\",\"Fitness\"])\n",
    "    df['cum_sum']= df.fitness.cumsum()\n",
    "    df['cum_perc']= 100*df.cum_sum/df.fitness.sum()\n",
    "    \n",
    "    for i in range(0, eliteSize):\n",
    "        resultadosseleccion.append(popRanked[i][0])\n",
    "    for i in range(0, len(popRanked) - eliteSize):\n",
    "        pick = 100 * random.random()\n",
    "        for i in range(0, len(popRanked)):\n",
    "            if pick <= df.iat[i,3]:\n",
    "                resultadosseleccion.append(popRanked[i][0])\n",
    "                break\n",
    "    return resultadosseleccion"
   ]
  },
  {
   "cell_type": "code",
   "execution_count": 7,
   "metadata": {},
   "outputs": [],
   "source": [
    "def matingPool(poblacion, resultadosseleccion):\n",
    "    matingpool = []\n",
    "    for i in range(0,len(resultadosseleccion)):\n",
    "        index = resultadosseleccion[i]\n",
    "        matingpool.append(poblacion[index])\n",
    "    return matingpool"
   ]
  },
  {
   "cell_type": "code",
   "execution_count": 9,
   "metadata": {},
   "outputs": [],
   "source": [
    "def cruzamineto(padre1, padre2):\n",
    "    hijo = []\n",
    "    hijop1 = []\n",
    "    hijop2 = []\n",
    "    \n",
    "    genA = int(random.random() * len(padre1))\n",
    "    genB = int(random.random() * len(padre1))\n",
    "    \n",
    "    genInicio = min(genA, genB)\n",
    "    genFin = max(ganA, genB)\n",
    "    \n",
    "    for i in range(genInicio, genFin):\n",
    "        hijoP1.append(padre1[i])\n",
    "        \n",
    "    hijoP2 = [iten for item in padre2 if item not in hijop1]\n",
    "        \n",
    "    hijo = hijop1 + hijop2\n",
    "    return hijo"
   ]
  },
  {
   "cell_type": "code",
   "execution_count": 8,
   "metadata": {},
   "outputs": [],
   "source": [
    "def poblacioncruzada(matingpool, eliteSize):\n",
    "    hijos = []\n",
    "    tamano = len(matingpool) - eliteSize\n",
    "    pool = random.sample(matingpool, len(matingpool))\n",
    "    \n",
    "    for i in range(0,eliteSize):\n",
    "        hijos.append(matingpool[i])\n",
    "        \n",
    "    for i in range(0, tamano):\n",
    "        hijo= cruzamiento(pool[i], pool[len(matingpool)-i-1])\n",
    "        hijos.append(hijo)\n",
    "    return hijos"
   ]
  },
  {
   "cell_type": "code",
   "execution_count": 9,
   "metadata": {},
   "outputs": [],
   "source": [
    "def mutacion(individuo, tasamutacion):\n",
    "    for swapped in range(len(individuo)):\n",
    "        swapWith = int(random.random() * len(individuo))\n",
    "        \n",
    "        ciudad1 = individuo[swapped]\n",
    "        ciudad2 = individuo[swapWith]\n",
    "        \n",
    "        individuo[swapped] = ciudad2\n",
    "        individuo[swapWith] = ciudad1\n",
    "    return individuo"
   ]
  },
  {
   "cell_type": "code",
   "execution_count": 10,
   "metadata": {},
   "outputs": [],
   "source": [
    "def mutacionpoblacion(poblacion, tasaMutacion):\n",
    "    popMutada = []\n",
    "    \n",
    "    for ind in range(0, len(poblacion)):\n",
    "        indMutada = mutacion(poblacion[ind], tasamutacion)\n",
    "        popMutada.append(indMutada)\n",
    "    return popMutada"
   ]
  },
  {
   "cell_type": "code",
   "execution_count": 11,
   "metadata": {},
   "outputs": [],
   "source": [
    "def siggeneracion(actgeneracion, eliteize, tasaMutacion):\n",
    "    popRanked = rankRutas(actGeneracion)\n",
    "    resultadosseleccion = selaccion(popRanked, eliteSize)\n",
    "    matingpool = matingPool(actGeneracion, resultadosSeleccion)\n",
    "    hijos = poblacioncruzada(matingpool, eliteSize)\n",
    "    sigGeneracion = mutacionPoblacion(hijos,tasaMutacion)\n",
    "    return sigGeneracion"
   ]
  },
  {
   "cell_type": "code",
   "execution_count": 12,
   "metadata": {},
   "outputs": [],
   "source": [
    "def algoritmogenetico(poblacion,popSize, eliteSize, tasaMutacion, generaciones):\n",
    "    pop = poblacioninicial(popSize, poblacion)\n",
    "    print(\"Distancia Inicial: \" + str(1 / rankRutas(pop)[0][1]))\n",
    "    \n",
    "    for i in range(0, generaciones):\n",
    "        pop = sigGeneracion(pop, eliteSize, tasaMutacion)\n",
    "    print(\"Distancia Final: \" + str(1 / rankRutas(pop)[0][1]))\n",
    "    indicemejorruta = rankRutas(pop)[0][0]\n",
    "    mejorruta = pop [indicemejorruta]\n",
    "    return mejorruta"
   ]
  },
  {
   "cell_type": "code",
   "execution_count": null,
   "metadata": {},
   "outputs": [],
   "source": []
  }
 ],
 "metadata": {
  "kernelspec": {
   "display_name": "Python 3",
   "language": "python",
   "name": "python3"
  },
  "language_info": {
   "codemirror_mode": {
    "name": "ipython",
    "version": 3
   },
   "file_extension": ".py",
   "mimetype": "text/x-python",
   "name": "python",
   "nbconvert_exporter": "python",
   "pygments_lexer": "ipython3",
   "version": "3.7.6"
  }
 },
 "nbformat": 4,
 "nbformat_minor": 4
}
