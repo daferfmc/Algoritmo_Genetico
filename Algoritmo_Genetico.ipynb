{
 "cells": [
  {
   "cell_type": "code",
   "execution_count": 1,
   "metadata": {},
   "outputs": [],
   "source": [
    "import numpy as np, random, operator\n",
    "import pandas as pd \n",
    "import matplotlib.pyplot as plt"
   ]
  },
  {
   "cell_type": "code",
   "execution_count": 2,
   "metadata": {},
   "outputs": [],
   "source": [
    "class Ciudad:\n",
    "    def __init__(self, x, y):\n",
    "        self.x=x\n",
    "        self.y=y\n",
    "    def distancia(self, Ciudad):\n",
    "        xDist = abs(self.x - Ciudad.x)\n",
    "        yDist = abs(self.y - Ciudad.y)\n",
    "        distancia = np.sqrt ( (xDist ** 2) + (yDist ** 2))\n",
    "        return distancia\n",
    "    \n",
    "    def __repr__(self):\n",
    "        return \"(\" + str(self.x) + \",\" + str(self.y) +\")\""
   ]
  },
  {
   "cell_type": "code",
   "execution_count": 3,
   "metadata": {},
   "outputs": [],
   "source": [
    "class Fitness:\n",
    "    def __init__(self, ruta):\n",
    "        self.ruta = ruta\n",
    "        self.distancia = 0\n",
    "        self.fitness = 0.0\n",
    "        \n",
    "    def distanciaRuta(self):\n",
    "        if self.distancia == 0:\n",
    "            pathDistancia = 0\n",
    "            for i in range(0, len(self.ruta)):\n",
    "                fromCiudad = self.ruta[i]\n",
    "                toCiudad = None\n",
    "                if i + 1 < len(self.ruta):\n",
    "                    toCiudad = self.ruta[i + 1]\n",
    "                else:\n",
    "                    toCiudad = self.ruta[0]\n",
    "                pathDistancia += fromCiudad.distancia(toCiudad)\n",
    "            self.distancia = pathDistancia\n",
    "        return self.distancia\n",
    "        \n",
    "    def rutaFitness(self):\n",
    "        if self.fitness ==0:\n",
    "            self.fitness = 1 / float(self.distanciaRuta())\n",
    "        return self.fitness\n",
    "                "
   ]
  },
  {
   "cell_type": "code",
   "execution_count": 4,
   "metadata": {},
   "outputs": [],
   "source": [
    "def crearRuta(listaCiudades):\n",
    "    ruta = random.sample(listaCiudades, len(listaCiudades))\n",
    "    return ruta"
   ]
  },
  {
   "cell_type": "code",
   "execution_count": 5,
   "metadata": {},
   "outputs": [],
   "source": [
    "def poblacionInicial(popSize, listaCiudades):\n",
    "    poblacion = []\n",
    "    \n",
    "    for i in range(0, popSize):\n",
    "        poblacion.append(crearRuta(listaCiudades))\n",
    "    return poblacion"
   ]
  },
  {
   "cell_type": "code",
   "execution_count": 6,
   "metadata": {},
   "outputs": [],
   "source": [
    "def rankRutas(poblacion):\n",
    "    resultadosFitness = {}\n",
    "    for i in range(0, len(poblacion)):\n",
    "        resultadosFitness[i] = Fitness(poblacion[i]).rutaFitness()\n",
    "    return sorted(resultadosFitness.items(), key = operator.itemgetter(1),reverse = True)"
   ]
  },
  {
   "cell_type": "code",
   "execution_count": 7,
   "metadata": {},
   "outputs": [],
   "source": [
    "def seleccion(popRanked, eliteSize):\n",
    "    resultadosSeleccion = []\n",
    "    df = pd.DataFrame(np.array(popRanked), columns=[\"Index\",\"Fitness\"])\n",
    "    df['cum_sum'] = df.Fitness.cumsum()\n",
    "    df['cum_perc'] = 100*df.cum_sum/df.Fitness.sum()\n",
    "    \n",
    "    for i in range(0, eliteSize):\n",
    "        resultadosSeleccion.append(popRanked[i][0])\n",
    "    for i in range(0, len(popRanked) - eliteSize):\n",
    "        pick = 100 * random.random()\n",
    "        for i in range(0, len(popRanked)):\n",
    "            if pick <= df.iat[i,3]:\n",
    "                resultadosSeleccion.append(popRanked[i][0])\n",
    "                break\n",
    "    return resultadosSeleccion\n",
    "def matingPool(pobacion, resultadosSeleccion):\n",
    "    matingpool = []\n",
    "    for i in range(0, len(resultadosSeleccion)):\n",
    "        index = resultadosSeleccion[i]\n",
    "        matingpool.append(pobacion[index])\n",
    "    return matingpool"
   ]
  },
  {
   "cell_type": "code",
   "execution_count": 8,
   "metadata": {},
   "outputs": [],
   "source": [
    "def cruzamiento(padre1, padre2):\n",
    "    hijo = []\n",
    "    hijoP1 = []\n",
    "    hijoP2 = []\n",
    "    \n",
    "    genA = int(random.random() * len(padre1))\n",
    "    genB = int(random.random() * len(padre1))\n",
    "    \n",
    "    genInicio = min(genA, genB)\n",
    "    genFin = max(genA, genB)\n",
    "    \n",
    "    for i in range(genInicio, genFin):\n",
    "        hijoP1.append(padre1[i])\n",
    "    \n",
    "    hijoP2 = [item for item in padre2 if item not in hijoP1]\n",
    "    \n",
    "    hijo = hijoP1 + hijoP2\n",
    "    return hijo"
   ]
  },
  {
   "cell_type": "code",
   "execution_count": 9,
   "metadata": {},
   "outputs": [],
   "source": [
    "def poblacionCruzada(matingpool, eliteSize):\n",
    "    hijos = []\n",
    "    tamano = len(matingpool) - eliteSize\n",
    "    pool = random.sample(matingpool, len(matingpool))\n",
    "    for i in range(0,eliteSize):\n",
    "        hijos.append(matingpool[i])\n",
    "        \n",
    "    for i in range(0, tamano):\n",
    "        hijo = cruzamiento(pool[i], pool[len(matingpool)-i-1])\n",
    "        hijos.append(hijo)\n",
    "    return hijos"
   ]
  },
  {
   "cell_type": "code",
   "execution_count": 10,
   "metadata": {},
   "outputs": [],
   "source": [
    "def mutacion(individuo, tasaMutacion):\n",
    "    for swapped in range(len(individuo)):\n",
    "        if (random.random() < tasaMutacion):\n",
    "            swapWith = int(random.random() * len(individuo))\n",
    "        \n",
    "            ciudad1 = individuo[swapped]\n",
    "            ciudad2 = individuo[swapWith]\n",
    "        \n",
    "            individuo[swapped] = ciudad2\n",
    "            individuo[swapWith] = ciudad1\n",
    "    return individuo"
   ]
  },
  {
   "cell_type": "code",
   "execution_count": 11,
   "metadata": {},
   "outputs": [],
   "source": [
    "def mutacionPoblacion(poblacion, tasaMutacion):\n",
    "    popMutada = []\n",
    "    \n",
    "    for ind in range(0, len(poblacion)):\n",
    "        indMutada = mutacion(poblacion[ind], tasaMutacion)\n",
    "        popMutada.append(indMutada)\n",
    "    return popMutada"
   ]
  },
  {
   "cell_type": "code",
   "execution_count": 12,
   "metadata": {},
   "outputs": [],
   "source": [
    "def sigGeneracion(actGeneracion, eliteSize, tasaMutacion):\n",
    "    popRanked = rankRutas(actGeneracion)\n",
    "    resultadosSeleccion = seleccion(popRanked, eliteSize)\n",
    "    matingpool = matingPool(actGeneracion, resultadosSeleccion)\n",
    "    hijos = poblacionCruzada(matingpool, eliteSize)\n",
    "    sigGeneracion = mutacionPoblacion(hijos, tasaMutacion)\n",
    "    return sigGeneracion"
   ]
  },
  {
   "cell_type": "code",
   "execution_count": 13,
   "metadata": {},
   "outputs": [],
   "source": [
    "def algoritmogenetico(poblacion, popSize, eliteSize, tasaMutacion, generaciones):\n",
    "    pop = poblacionInicial(popSize, poblacion)\n",
    "    print(\"Distancia Inicial:\" + str(1 / rankRutas(pop)[0][1]))\n",
    "    \n",
    "    for i in range(0, generaciones):\n",
    "        pop = sigGeneracion(pop, eliteSize, tasaMutacion)\n",
    "        \n",
    "    print(\"Distancia Final:\" + str(1 / rankRutas(pop)[0][1]))\n",
    "    indiceMejorRuta = rankRutas(pop)[0][0]\n",
    "    mejorRuta = pop[indiceMejorRuta]\n",
    "    return mejorRuta"
   ]
  },
  {
   "cell_type": "code",
   "execution_count": 14,
   "metadata": {},
   "outputs": [],
   "source": [
    "listaCiudades = []\n",
    "\n",
    "for i in range(0,25):\n",
    "    listaCiudades.append(Ciudad(x=int(random.random()* 200), y=int(random.random() * 200)))\n",
    "\n"
   ]
  },
  {
   "cell_type": "code",
   "execution_count": 15,
   "metadata": {},
   "outputs": [
    {
     "name": "stdout",
     "output_type": "stream",
     "text": [
      "Distancia Inicial:2024.2664112606917\n",
      "Distancia Final:920.8898060126834\n"
     ]
    },
    {
     "data": {
      "text/plain": [
       "[(3,88),\n",
       " (9,84),\n",
       " (16,59),\n",
       " (60,66),\n",
       " (48,42),\n",
       " (78,20),\n",
       " (92,34),\n",
       " (112,36),\n",
       " (140,61),\n",
       " (191,56),\n",
       " (157,36),\n",
       " (102,65),\n",
       " (94,59),\n",
       " (95,81),\n",
       " (85,132),\n",
       " (121,144),\n",
       " (137,122),\n",
       " (146,147),\n",
       " (171,147),\n",
       " (191,187),\n",
       " (139,166),\n",
       " (112,197),\n",
       " (37,194),\n",
       " (34,130),\n",
       " (39,102)]"
      ]
     },
     "execution_count": 15,
     "metadata": {},
     "output_type": "execute_result"
    }
   ],
   "source": [
    "algoritmogenetico(poblacion=listaCiudades, popSize=100, eliteSize=20, tasaMutacion=0.01, generaciones=500)"
   ]
  },
  {
   "cell_type": "code",
   "execution_count": 154,
   "metadata": {},
   "outputs": [],
   "source": [
    "#algoritmogenetico(poblacion=listaciudades, popSize=100, eliteSize=20, tasaMutacion=0.01, generaciones=500)"
   ]
  },
  {
   "cell_type": "code",
   "execution_count": null,
   "metadata": {},
   "outputs": [],
   "source": []
  }
 ],
 "metadata": {
  "kernelspec": {
   "display_name": "Python 3",
   "language": "python",
   "name": "python3"
  },
  "language_info": {
   "codemirror_mode": {
    "name": "ipython",
    "version": 3
   },
   "file_extension": ".py",
   "mimetype": "text/x-python",
   "name": "python",
   "nbconvert_exporter": "python",
   "pygments_lexer": "ipython3",
   "version": "3.7.6"
  }
 },
 "nbformat": 4,
 "nbformat_minor": 4
}
